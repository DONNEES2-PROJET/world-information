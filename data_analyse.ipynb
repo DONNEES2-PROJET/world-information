{
 "cells": [
  {
   "cell_type": "code",
   "execution_count": 14,
   "metadata": {},
   "outputs": [],
   "source": [
    "import pandas as pd "
   ]
  },
  {
   "cell_type": "code",
   "execution_count": 15,
   "metadata": {},
   "outputs": [
    {
     "data": {
      "text/html": [
       "<div>\n",
       "<style scoped>\n",
       "    .dataframe tbody tr th:only-of-type {\n",
       "        vertical-align: middle;\n",
       "    }\n",
       "\n",
       "    .dataframe tbody tr th {\n",
       "        vertical-align: top;\n",
       "    }\n",
       "\n",
       "    .dataframe thead th {\n",
       "        text-align: right;\n",
       "    }\n",
       "</style>\n",
       "<table border=\"1\" class=\"dataframe\">\n",
       "  <thead>\n",
       "    <tr style=\"text-align: right;\">\n",
       "      <th></th>\n",
       "      <th>Unnamed: 0</th>\n",
       "      <th>Country</th>\n",
       "      <th>Land Area(Km2)</th>\n",
       "      <th>Capital/Major City</th>\n",
       "      <th>Largest city</th>\n",
       "      <th>Calling Code</th>\n",
       "      <th>Official language</th>\n",
       "      <th>Latitude</th>\n",
       "      <th>Longitude</th>\n",
       "    </tr>\n",
       "  </thead>\n",
       "  <tbody>\n",
       "    <tr>\n",
       "      <th>0</th>\n",
       "      <td>0</td>\n",
       "      <td>Afghanistan</td>\n",
       "      <td>652230.0</td>\n",
       "      <td>Kabul</td>\n",
       "      <td>Kabul</td>\n",
       "      <td>93.0</td>\n",
       "      <td>Pashto</td>\n",
       "      <td>33.939110</td>\n",
       "      <td>67.709953</td>\n",
       "    </tr>\n",
       "    <tr>\n",
       "      <th>1</th>\n",
       "      <td>1</td>\n",
       "      <td>Albania</td>\n",
       "      <td>28748.0</td>\n",
       "      <td>Tirana</td>\n",
       "      <td>Tirana</td>\n",
       "      <td>355.0</td>\n",
       "      <td>Albanian</td>\n",
       "      <td>41.153332</td>\n",
       "      <td>20.168331</td>\n",
       "    </tr>\n",
       "    <tr>\n",
       "      <th>2</th>\n",
       "      <td>2</td>\n",
       "      <td>Algeria</td>\n",
       "      <td>2381741.0</td>\n",
       "      <td>Algiers</td>\n",
       "      <td>Algiers</td>\n",
       "      <td>213.0</td>\n",
       "      <td>Arabic</td>\n",
       "      <td>28.033886</td>\n",
       "      <td>1.659626</td>\n",
       "    </tr>\n",
       "    <tr>\n",
       "      <th>3</th>\n",
       "      <td>3</td>\n",
       "      <td>Andorra</td>\n",
       "      <td>468.0</td>\n",
       "      <td>Andorra la Vella</td>\n",
       "      <td>Andorra la Vella</td>\n",
       "      <td>376.0</td>\n",
       "      <td>Catalan</td>\n",
       "      <td>42.506285</td>\n",
       "      <td>1.521801</td>\n",
       "    </tr>\n",
       "    <tr>\n",
       "      <th>4</th>\n",
       "      <td>4</td>\n",
       "      <td>Angola</td>\n",
       "      <td>1246700.0</td>\n",
       "      <td>Luanda</td>\n",
       "      <td>Luanda</td>\n",
       "      <td>244.0</td>\n",
       "      <td>Portuguese</td>\n",
       "      <td>-11.202692</td>\n",
       "      <td>17.873887</td>\n",
       "    </tr>\n",
       "  </tbody>\n",
       "</table>\n",
       "</div>"
      ],
      "text/plain": [
       "   Unnamed: 0      Country  Land Area(Km2) Capital/Major City  \\\n",
       "0           0  Afghanistan        652230.0              Kabul   \n",
       "1           1      Albania         28748.0             Tirana   \n",
       "2           2      Algeria       2381741.0            Algiers   \n",
       "3           3      Andorra           468.0   Andorra la Vella   \n",
       "4           4       Angola       1246700.0             Luanda   \n",
       "\n",
       "       Largest city  Calling Code Official language   Latitude  Longitude  \n",
       "0             Kabul          93.0            Pashto  33.939110  67.709953  \n",
       "1            Tirana         355.0          Albanian  41.153332  20.168331  \n",
       "2           Algiers         213.0            Arabic  28.033886   1.659626  \n",
       "3  Andorra la Vella         376.0           Catalan  42.506285   1.521801  \n",
       "4            Luanda         244.0        Portuguese -11.202692  17.873887  "
      ]
     },
     "execution_count": 15,
     "metadata": {},
     "output_type": "execute_result"
    }
   ],
   "source": [
    "country_data = pd.read_csv(\"country-data.csv\")\n",
    "country_data.head()"
   ]
  },
  {
   "cell_type": "code",
   "execution_count": 16,
   "metadata": {},
   "outputs": [],
   "source": [
    "#suprimer Unnamed: 0\n",
    "country_data = country_data.drop(columns=[\"Unnamed: 0\"])\n",
    "country_data.head()\n",
    "country_data.to_csv('country-data.csv')"
   ]
  }
 ],
 "metadata": {
  "kernelspec": {
   "display_name": "Python 3",
   "language": "python",
   "name": "python3"
  },
  "language_info": {
   "codemirror_mode": {
    "name": "ipython",
    "version": 3
   },
   "file_extension": ".py",
   "mimetype": "text/x-python",
   "name": "python",
   "nbconvert_exporter": "python",
   "pygments_lexer": "ipython3",
   "version": "3.9.2"
  },
  "orig_nbformat": 4
 },
 "nbformat": 4,
 "nbformat_minor": 2
}
